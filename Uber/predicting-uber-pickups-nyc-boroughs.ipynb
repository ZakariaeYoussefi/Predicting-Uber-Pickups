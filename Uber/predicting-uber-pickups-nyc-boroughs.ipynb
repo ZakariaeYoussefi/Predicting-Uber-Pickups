{
 "cells": [
  {
   "cell_type": "markdown",
   "metadata": {},
   "source": [
    "# Data Content:\n",
    "\n",
    "**Uber Pickups** in New York City, from 01/01/2015 to 30/06/2015\n",
    "\n",
    "Weather data from National Centers for Environmental Information.\n",
    "\n",
    "LocationID to Borough mapping. (by FiveThirtyEight)\n",
    "NYC public holidays.\n",
    "\n",
    "The main dataset contained over 10 million observations of 4 variables which aggregated per hour and borough, and then joined with the rest of the datasets producing 29,101 observations across 13 variables. These are:\n",
    "\n",
    "\n",
    "- **pickup_dt:** Time period of the observations.\n",
    "- **borough:** NYC's borough.\n",
    "- **pickups:** Number of pickups for the period.\n",
    "- **spd:** Wind speed in miles/hour.\n",
    "- **vsb:** Visibility in Miles to nearest tenth.\n",
    "- **temp:** temperature in Fahrenheit.\n",
    "- **dewp:** Dew point in Fahrenheit.\n",
    "- **slp:** Sea level pressure.\n",
    "- **pcp01:** 1-hour liquid precipitation.\n",
    "- **pcp06:** 6-hour liquid precipitation.\n",
    "- **pcp24:** 24-hour liquid precipitation.\n",
    "- **sd:** Snow depth in inches.\n",
    "- **hday:** Being a holiday (Y) or not (N).\n",
    "\n",
    "\n",
    "# Goal:\n",
    "\n",
    "In this project, we aim to develop a regression model that can predict the number of pickups in various areas of New York City based on given information. By building an accurate predictive model, we can gain insights into demand patterns and optimize transportation or logistics operations in the city."
   ]
  },
  {
   "cell_type": "markdown",
   "metadata": {},
   "source": [
    "### First, let's import the necessary libraries."
   ]
  },
  {
   "cell_type": "code",
   "execution_count": 2,
   "metadata": {
    "execution": {
     "iopub.execute_input": "2024-05-07T14:57:12.519278Z",
     "iopub.status.busy": "2024-05-07T14:57:12.518826Z",
     "iopub.status.idle": "2024-05-07T14:57:13.030997Z",
     "shell.execute_reply": "2024-05-07T14:57:13.029651Z",
     "shell.execute_reply.started": "2024-05-07T14:57:12.519228Z"
    },
    "trusted": true
   },
   "outputs": [],
   "source": [
    "import pandas as pd\n",
    "import numpy as np\n",
    "import matplotlib.pyplot as plt\n",
    "import math \n",
    "\n"
   ]
  },
  {
   "cell_type": "code",
   "execution_count": 3,
   "metadata": {
    "execution": {
     "iopub.execute_input": "2024-05-07T14:57:21.315737Z",
     "iopub.status.busy": "2024-05-07T14:57:21.315326Z",
     "iopub.status.idle": "2024-05-07T14:57:21.441508Z",
     "shell.execute_reply": "2024-05-07T14:57:21.440433Z",
     "shell.execute_reply.started": "2024-05-07T14:57:21.315702Z"
    },
    "trusted": true
   },
   "outputs": [],
   "source": [
    "nyc= pd.read_csv('uber_nyc_enriched.csv')"
   ]
  },
  {
   "cell_type": "code",
   "execution_count": 4,
   "metadata": {
    "execution": {
     "iopub.execute_input": "2024-05-07T14:57:22.897886Z",
     "iopub.status.busy": "2024-05-07T14:57:22.897440Z",
     "iopub.status.idle": "2024-05-07T14:57:22.965015Z",
     "shell.execute_reply": "2024-05-07T14:57:22.963738Z",
     "shell.execute_reply.started": "2024-05-07T14:57:22.897850Z"
    },
    "trusted": true
   },
   "outputs": [
    {
     "data": {
      "text/html": [
       "<div>\n",
       "<style scoped>\n",
       "    .dataframe tbody tr th:only-of-type {\n",
       "        vertical-align: middle;\n",
       "    }\n",
       "\n",
       "    .dataframe tbody tr th {\n",
       "        vertical-align: top;\n",
       "    }\n",
       "\n",
       "    .dataframe thead th {\n",
       "        text-align: right;\n",
       "    }\n",
       "</style>\n",
       "<table border=\"1\" class=\"dataframe\">\n",
       "  <thead>\n",
       "    <tr style=\"text-align: right;\">\n",
       "      <th></th>\n",
       "      <th>pickups</th>\n",
       "      <th>spd</th>\n",
       "      <th>vsb</th>\n",
       "      <th>temp</th>\n",
       "      <th>dewp</th>\n",
       "      <th>slp</th>\n",
       "      <th>pcp01</th>\n",
       "      <th>pcp06</th>\n",
       "      <th>pcp24</th>\n",
       "      <th>sd</th>\n",
       "    </tr>\n",
       "  </thead>\n",
       "  <tbody>\n",
       "    <tr>\n",
       "      <th>count</th>\n",
       "      <td>29101.000000</td>\n",
       "      <td>29101.000000</td>\n",
       "      <td>29101.000000</td>\n",
       "      <td>29101.000000</td>\n",
       "      <td>29101.000000</td>\n",
       "      <td>29101.000000</td>\n",
       "      <td>29101.000000</td>\n",
       "      <td>29101.000000</td>\n",
       "      <td>29101.000000</td>\n",
       "      <td>29101.000000</td>\n",
       "    </tr>\n",
       "    <tr>\n",
       "      <th>mean</th>\n",
       "      <td>490.215903</td>\n",
       "      <td>5.984924</td>\n",
       "      <td>8.818125</td>\n",
       "      <td>47.669042</td>\n",
       "      <td>30.823065</td>\n",
       "      <td>1017.817938</td>\n",
       "      <td>0.003830</td>\n",
       "      <td>0.026129</td>\n",
       "      <td>0.090464</td>\n",
       "      <td>2.529169</td>\n",
       "    </tr>\n",
       "    <tr>\n",
       "      <th>std</th>\n",
       "      <td>995.649536</td>\n",
       "      <td>3.699007</td>\n",
       "      <td>2.442897</td>\n",
       "      <td>19.814969</td>\n",
       "      <td>21.283444</td>\n",
       "      <td>7.768796</td>\n",
       "      <td>0.018933</td>\n",
       "      <td>0.093125</td>\n",
       "      <td>0.219402</td>\n",
       "      <td>4.520325</td>\n",
       "    </tr>\n",
       "    <tr>\n",
       "      <th>min</th>\n",
       "      <td>0.000000</td>\n",
       "      <td>0.000000</td>\n",
       "      <td>0.000000</td>\n",
       "      <td>2.000000</td>\n",
       "      <td>-16.000000</td>\n",
       "      <td>991.400000</td>\n",
       "      <td>0.000000</td>\n",
       "      <td>0.000000</td>\n",
       "      <td>0.000000</td>\n",
       "      <td>0.000000</td>\n",
       "    </tr>\n",
       "    <tr>\n",
       "      <th>25%</th>\n",
       "      <td>1.000000</td>\n",
       "      <td>3.000000</td>\n",
       "      <td>9.100000</td>\n",
       "      <td>32.000000</td>\n",
       "      <td>14.000000</td>\n",
       "      <td>1012.500000</td>\n",
       "      <td>0.000000</td>\n",
       "      <td>0.000000</td>\n",
       "      <td>0.000000</td>\n",
       "      <td>0.000000</td>\n",
       "    </tr>\n",
       "    <tr>\n",
       "      <th>50%</th>\n",
       "      <td>54.000000</td>\n",
       "      <td>6.000000</td>\n",
       "      <td>10.000000</td>\n",
       "      <td>46.000000</td>\n",
       "      <td>30.000000</td>\n",
       "      <td>1018.200000</td>\n",
       "      <td>0.000000</td>\n",
       "      <td>0.000000</td>\n",
       "      <td>0.000000</td>\n",
       "      <td>0.000000</td>\n",
       "    </tr>\n",
       "    <tr>\n",
       "      <th>75%</th>\n",
       "      <td>449.000000</td>\n",
       "      <td>8.000000</td>\n",
       "      <td>10.000000</td>\n",
       "      <td>64.500000</td>\n",
       "      <td>50.000000</td>\n",
       "      <td>1022.900000</td>\n",
       "      <td>0.000000</td>\n",
       "      <td>0.000000</td>\n",
       "      <td>0.050000</td>\n",
       "      <td>2.958333</td>\n",
       "    </tr>\n",
       "    <tr>\n",
       "      <th>max</th>\n",
       "      <td>7883.000000</td>\n",
       "      <td>21.000000</td>\n",
       "      <td>10.000000</td>\n",
       "      <td>89.000000</td>\n",
       "      <td>73.000000</td>\n",
       "      <td>1043.400000</td>\n",
       "      <td>0.280000</td>\n",
       "      <td>1.240000</td>\n",
       "      <td>2.100000</td>\n",
       "      <td>19.000000</td>\n",
       "    </tr>\n",
       "  </tbody>\n",
       "</table>\n",
       "</div>"
      ],
      "text/plain": [
       "            pickups           spd           vsb          temp          dewp  \\\n",
       "count  29101.000000  29101.000000  29101.000000  29101.000000  29101.000000   \n",
       "mean     490.215903      5.984924      8.818125     47.669042     30.823065   \n",
       "std      995.649536      3.699007      2.442897     19.814969     21.283444   \n",
       "min        0.000000      0.000000      0.000000      2.000000    -16.000000   \n",
       "25%        1.000000      3.000000      9.100000     32.000000     14.000000   \n",
       "50%       54.000000      6.000000     10.000000     46.000000     30.000000   \n",
       "75%      449.000000      8.000000     10.000000     64.500000     50.000000   \n",
       "max     7883.000000     21.000000     10.000000     89.000000     73.000000   \n",
       "\n",
       "                slp         pcp01         pcp06         pcp24            sd  \n",
       "count  29101.000000  29101.000000  29101.000000  29101.000000  29101.000000  \n",
       "mean    1017.817938      0.003830      0.026129      0.090464      2.529169  \n",
       "std        7.768796      0.018933      0.093125      0.219402      4.520325  \n",
       "min      991.400000      0.000000      0.000000      0.000000      0.000000  \n",
       "25%     1012.500000      0.000000      0.000000      0.000000      0.000000  \n",
       "50%     1018.200000      0.000000      0.000000      0.000000      0.000000  \n",
       "75%     1022.900000      0.000000      0.000000      0.050000      2.958333  \n",
       "max     1043.400000      0.280000      1.240000      2.100000     19.000000  "
      ]
     },
     "execution_count": 4,
     "metadata": {},
     "output_type": "execute_result"
    }
   ],
   "source": [
    "nyc.describe()"
   ]
  },
  {
   "cell_type": "code",
   "execution_count": 5,
   "metadata": {
    "execution": {
     "iopub.execute_input": "2024-05-07T14:57:25.098064Z",
     "iopub.status.busy": "2024-05-07T14:57:25.097696Z",
     "iopub.status.idle": "2024-05-07T14:57:25.121697Z",
     "shell.execute_reply": "2024-05-07T14:57:25.120370Z",
     "shell.execute_reply.started": "2024-05-07T14:57:25.098035Z"
    },
    "trusted": true
   },
   "outputs": [
    {
     "data": {
      "text/plain": [
       "borough      3043\n",
       "pickup_dt       0\n",
       "pickups         0\n",
       "spd             0\n",
       "vsb             0\n",
       "temp            0\n",
       "dewp            0\n",
       "slp             0\n",
       "pcp01           0\n",
       "pcp06           0\n",
       "pcp24           0\n",
       "sd              0\n",
       "hday            0\n",
       "dtype: int64"
      ]
     },
     "execution_count": 5,
     "metadata": {},
     "output_type": "execute_result"
    }
   ],
   "source": [
    "# Identifying null values in the dataframe\n",
    "nyc.isnull().sum().sort_values(ascending=False)"
   ]
  },
  {
   "cell_type": "code",
   "execution_count": 6,
   "metadata": {
    "execution": {
     "iopub.execute_input": "2024-05-07T14:57:29.838993Z",
     "iopub.status.busy": "2024-05-07T14:57:29.838484Z",
     "iopub.status.idle": "2024-05-07T14:57:29.877177Z",
     "shell.execute_reply": "2024-05-07T14:57:29.875927Z",
     "shell.execute_reply.started": "2024-05-07T14:57:29.838952Z"
    },
    "trusted": true
   },
   "outputs": [
    {
     "data": {
      "text/plain": [
       "0"
      ]
     },
     "execution_count": 6,
     "metadata": {},
     "output_type": "execute_result"
    }
   ],
   "source": [
    "# Identifying duplicate values in the dataframe\n",
    "nyc.duplicated().sum()"
   ]
  },
  {
   "cell_type": "code",
   "execution_count": 7,
   "metadata": {
    "execution": {
     "iopub.execute_input": "2024-05-07T14:57:31.467033Z",
     "iopub.status.busy": "2024-05-07T14:57:31.466548Z",
     "iopub.status.idle": "2024-05-07T14:57:31.493654Z",
     "shell.execute_reply": "2024-05-07T14:57:31.492287Z",
     "shell.execute_reply.started": "2024-05-07T14:57:31.466996Z"
    },
    "trusted": true
   },
   "outputs": [
    {
     "data": {
      "text/html": [
       "<div>\n",
       "<style scoped>\n",
       "    .dataframe tbody tr th:only-of-type {\n",
       "        vertical-align: middle;\n",
       "    }\n",
       "\n",
       "    .dataframe tbody tr th {\n",
       "        vertical-align: top;\n",
       "    }\n",
       "\n",
       "    .dataframe thead th {\n",
       "        text-align: right;\n",
       "    }\n",
       "</style>\n",
       "<table border=\"1\" class=\"dataframe\">\n",
       "  <thead>\n",
       "    <tr style=\"text-align: right;\">\n",
       "      <th></th>\n",
       "      <th>pickup_dt</th>\n",
       "      <th>borough</th>\n",
       "      <th>pickups</th>\n",
       "      <th>spd</th>\n",
       "      <th>vsb</th>\n",
       "      <th>temp</th>\n",
       "      <th>dewp</th>\n",
       "      <th>slp</th>\n",
       "      <th>pcp01</th>\n",
       "      <th>pcp06</th>\n",
       "      <th>pcp24</th>\n",
       "      <th>sd</th>\n",
       "      <th>hday</th>\n",
       "    </tr>\n",
       "  </thead>\n",
       "  <tbody>\n",
       "    <tr>\n",
       "      <th>0</th>\n",
       "      <td>2015-01-01 01:00:00</td>\n",
       "      <td>Bronx</td>\n",
       "      <td>152</td>\n",
       "      <td>5.0</td>\n",
       "      <td>10.0</td>\n",
       "      <td>30.0</td>\n",
       "      <td>7.0</td>\n",
       "      <td>1023.5</td>\n",
       "      <td>0.0</td>\n",
       "      <td>0.0</td>\n",
       "      <td>0.0</td>\n",
       "      <td>0.0</td>\n",
       "      <td>Y</td>\n",
       "    </tr>\n",
       "    <tr>\n",
       "      <th>1</th>\n",
       "      <td>2015-01-01 01:00:00</td>\n",
       "      <td>Brooklyn</td>\n",
       "      <td>1519</td>\n",
       "      <td>5.0</td>\n",
       "      <td>10.0</td>\n",
       "      <td>30.0</td>\n",
       "      <td>7.0</td>\n",
       "      <td>1023.5</td>\n",
       "      <td>0.0</td>\n",
       "      <td>0.0</td>\n",
       "      <td>0.0</td>\n",
       "      <td>0.0</td>\n",
       "      <td>Y</td>\n",
       "    </tr>\n",
       "    <tr>\n",
       "      <th>2</th>\n",
       "      <td>2015-01-01 01:00:00</td>\n",
       "      <td>EWR</td>\n",
       "      <td>0</td>\n",
       "      <td>5.0</td>\n",
       "      <td>10.0</td>\n",
       "      <td>30.0</td>\n",
       "      <td>7.0</td>\n",
       "      <td>1023.5</td>\n",
       "      <td>0.0</td>\n",
       "      <td>0.0</td>\n",
       "      <td>0.0</td>\n",
       "      <td>0.0</td>\n",
       "      <td>Y</td>\n",
       "    </tr>\n",
       "    <tr>\n",
       "      <th>3</th>\n",
       "      <td>2015-01-01 01:00:00</td>\n",
       "      <td>Manhattan</td>\n",
       "      <td>5258</td>\n",
       "      <td>5.0</td>\n",
       "      <td>10.0</td>\n",
       "      <td>30.0</td>\n",
       "      <td>7.0</td>\n",
       "      <td>1023.5</td>\n",
       "      <td>0.0</td>\n",
       "      <td>0.0</td>\n",
       "      <td>0.0</td>\n",
       "      <td>0.0</td>\n",
       "      <td>Y</td>\n",
       "    </tr>\n",
       "    <tr>\n",
       "      <th>4</th>\n",
       "      <td>2015-01-01 01:00:00</td>\n",
       "      <td>Queens</td>\n",
       "      <td>405</td>\n",
       "      <td>5.0</td>\n",
       "      <td>10.0</td>\n",
       "      <td>30.0</td>\n",
       "      <td>7.0</td>\n",
       "      <td>1023.5</td>\n",
       "      <td>0.0</td>\n",
       "      <td>0.0</td>\n",
       "      <td>0.0</td>\n",
       "      <td>0.0</td>\n",
       "      <td>Y</td>\n",
       "    </tr>\n",
       "  </tbody>\n",
       "</table>\n",
       "</div>"
      ],
      "text/plain": [
       "             pickup_dt    borough  pickups  spd   vsb  temp  dewp     slp  \\\n",
       "0  2015-01-01 01:00:00      Bronx      152  5.0  10.0  30.0   7.0  1023.5   \n",
       "1  2015-01-01 01:00:00   Brooklyn     1519  5.0  10.0  30.0   7.0  1023.5   \n",
       "2  2015-01-01 01:00:00        EWR        0  5.0  10.0  30.0   7.0  1023.5   \n",
       "3  2015-01-01 01:00:00  Manhattan     5258  5.0  10.0  30.0   7.0  1023.5   \n",
       "4  2015-01-01 01:00:00     Queens      405  5.0  10.0  30.0   7.0  1023.5   \n",
       "\n",
       "   pcp01  pcp06  pcp24   sd hday  \n",
       "0    0.0    0.0    0.0  0.0    Y  \n",
       "1    0.0    0.0    0.0  0.0    Y  \n",
       "2    0.0    0.0    0.0  0.0    Y  \n",
       "3    0.0    0.0    0.0  0.0    Y  \n",
       "4    0.0    0.0    0.0  0.0    Y  "
      ]
     },
     "execution_count": 7,
     "metadata": {},
     "output_type": "execute_result"
    }
   ],
   "source": [
    "nyc.head()"
   ]
  },
  {
   "cell_type": "markdown",
   "metadata": {},
   "source": [
    "### Observation\n",
    "\n",
    "Fortunately, the data we received was already clean and did not require additional cleaning or preprocessing. This allows us to move directly to the feature engineering stage, where we will create and select meaningful features to enhance our regression model's performance."
   ]
  },
  {
   "cell_type": "markdown",
   "metadata": {},
   "source": [
    "# Feature Engineering\n",
    "\n",
    "We have two columns that require transformation to a common scale to ensure our regression model can interpret the data effectively. These columns are:\n",
    "\n",
    "\n",
    "- **pick_dt:** This column contains datetime information, including the exact date and time of each observation. To make it more useful for our analysis, we will split this column into separate columns representing the day of the week (e.g., Monday, Tuesday...) and the time. This way, we can capture any potential patterns or trends associated with specific days or time ranges.\n",
    "\n",
    "\n",
    "- **hday:** This is a categorical column with values 'Y' and 'N'. To simplify the data and make it more machine-friendly, we will convert these values to numerical ones. We will replace 'Y' with 1 and 'N' with 0. This binary representation will help our machine learning model handle the data more efficiently, as numerical data is generally easier for algorithms to process and analyze.\n"
   ]
  },
  {
   "cell_type": "code",
   "execution_count": 8,
   "metadata": {
    "execution": {
     "iopub.execute_input": "2024-05-07T14:57:34.746256Z",
     "iopub.status.busy": "2024-05-07T14:57:34.745815Z",
     "iopub.status.idle": "2024-05-07T14:57:34.864831Z",
     "shell.execute_reply": "2024-05-07T14:57:34.863531Z",
     "shell.execute_reply.started": "2024-05-07T14:57:34.746186Z"
    },
    "trusted": true
   },
   "outputs": [],
   "source": [
    "nyc=nyc.dropna()\n",
    "nyc=nyc.reset_index(drop=True)\n",
    "\n",
    "\n",
    "#Isolating date and time column to uncover potential patterns influenced by specific days and time ranges.\n",
    "nyc['DayOfWeek'] = pd.to_datetime(nyc['pickup_dt']).dt.day_name()\n",
    "nyc['Time'] = pd.to_datetime(nyc['pickup_dt']).dt.time\n",
    "nyc=nyc.drop(columns=['pickup_dt'],errors='ignore')\n",
    "\n",
    "#Excluding 'EWR' data as it represents a specific region within Queens borough, focusing on main NYC areas.\n",
    "\n",
    "nyc= nyc[nyc['borough']!='EWR']\n",
    "\n",
    "#Excluding 'Staten Island' data as it has really small pickup number.\n",
    "nyc= nyc[nyc['borough']!='Staten Island']"
   ]
  },
  {
   "cell_type": "code",
   "execution_count": 9,
   "metadata": {
    "execution": {
     "iopub.execute_input": "2024-05-07T14:57:36.335315Z",
     "iopub.status.busy": "2024-05-07T14:57:36.334045Z",
     "iopub.status.idle": "2024-05-07T14:57:36.430220Z",
     "shell.execute_reply": "2024-05-07T14:57:36.429058Z",
     "shell.execute_reply.started": "2024-05-07T14:57:36.335177Z"
    },
    "trusted": true
   },
   "outputs": [],
   "source": [
    "#Changing hday column to numerical values\n",
    "nyc['hday']=nyc['hday'].apply(lambda x: 1 if x=='Y' else 0)\n",
    "#Chaning Time column from dt.Time dtype to int\n",
    "nyc['Time'] = nyc['Time'].apply(str).str[:2].apply(int)\n",
    "\n",
    "\n",
    "def converter(Day):\n",
    "    \"\"\"This function takes a string representing the name of a day of the week and returns its corresponding index.\n",
    "    The index values range from 0 to 6, representing Monday to Sunday, respectively.\n",
    "\n",
    "    Parameters:\n",
    "    day_name (str): The name of the day (e.g., 'Monday', 'Tuesday', etc.).\n",
    "\n",
    "    Returns:\n",
    "    int: The index value corresponding to the given day name.\"\"\"\n",
    "\n",
    "    week={'Monday':0, 'Tuesday':1,'Wednesday':2, 'Thursday':3, 'Friday':4, 'Saturday':5, 'Sunday':6}\n",
    "    return week[Day]\n",
    "\n",
    "nyc['DayOfWeek']= nyc['DayOfWeek'].apply(converter)\n",
    "nyc=nyc.reset_index(drop=True)\n"
   ]
  },
  {
   "cell_type": "code",
   "execution_count": 10,
   "metadata": {
    "execution": {
     "iopub.execute_input": "2024-05-07T14:57:39.666624Z",
     "iopub.status.busy": "2024-05-07T14:57:39.666213Z",
     "iopub.status.idle": "2024-05-07T14:57:39.692418Z",
     "shell.execute_reply": "2024-05-07T14:57:39.691225Z",
     "shell.execute_reply.started": "2024-05-07T14:57:39.666592Z"
    },
    "trusted": true
   },
   "outputs": [
    {
     "data": {
      "text/html": [
       "<div>\n",
       "<style scoped>\n",
       "    .dataframe tbody tr th:only-of-type {\n",
       "        vertical-align: middle;\n",
       "    }\n",
       "\n",
       "    .dataframe tbody tr th {\n",
       "        vertical-align: top;\n",
       "    }\n",
       "\n",
       "    .dataframe thead th {\n",
       "        text-align: right;\n",
       "    }\n",
       "</style>\n",
       "<table border=\"1\" class=\"dataframe\">\n",
       "  <thead>\n",
       "    <tr style=\"text-align: right;\">\n",
       "      <th></th>\n",
       "      <th>borough</th>\n",
       "      <th>pickups</th>\n",
       "      <th>spd</th>\n",
       "      <th>vsb</th>\n",
       "      <th>temp</th>\n",
       "      <th>dewp</th>\n",
       "      <th>slp</th>\n",
       "      <th>pcp01</th>\n",
       "      <th>pcp06</th>\n",
       "      <th>pcp24</th>\n",
       "      <th>sd</th>\n",
       "      <th>hday</th>\n",
       "      <th>DayOfWeek</th>\n",
       "      <th>Time</th>\n",
       "    </tr>\n",
       "  </thead>\n",
       "  <tbody>\n",
       "    <tr>\n",
       "      <th>0</th>\n",
       "      <td>Bronx</td>\n",
       "      <td>152</td>\n",
       "      <td>5.0</td>\n",
       "      <td>10.0</td>\n",
       "      <td>30.0</td>\n",
       "      <td>7.0</td>\n",
       "      <td>1023.5</td>\n",
       "      <td>0.0</td>\n",
       "      <td>0.0</td>\n",
       "      <td>0.0</td>\n",
       "      <td>0.0</td>\n",
       "      <td>1</td>\n",
       "      <td>3</td>\n",
       "      <td>1</td>\n",
       "    </tr>\n",
       "    <tr>\n",
       "      <th>1</th>\n",
       "      <td>Brooklyn</td>\n",
       "      <td>1519</td>\n",
       "      <td>5.0</td>\n",
       "      <td>10.0</td>\n",
       "      <td>30.0</td>\n",
       "      <td>7.0</td>\n",
       "      <td>1023.5</td>\n",
       "      <td>0.0</td>\n",
       "      <td>0.0</td>\n",
       "      <td>0.0</td>\n",
       "      <td>0.0</td>\n",
       "      <td>1</td>\n",
       "      <td>3</td>\n",
       "      <td>1</td>\n",
       "    </tr>\n",
       "    <tr>\n",
       "      <th>2</th>\n",
       "      <td>Manhattan</td>\n",
       "      <td>5258</td>\n",
       "      <td>5.0</td>\n",
       "      <td>10.0</td>\n",
       "      <td>30.0</td>\n",
       "      <td>7.0</td>\n",
       "      <td>1023.5</td>\n",
       "      <td>0.0</td>\n",
       "      <td>0.0</td>\n",
       "      <td>0.0</td>\n",
       "      <td>0.0</td>\n",
       "      <td>1</td>\n",
       "      <td>3</td>\n",
       "      <td>1</td>\n",
       "    </tr>\n",
       "    <tr>\n",
       "      <th>3</th>\n",
       "      <td>Queens</td>\n",
       "      <td>405</td>\n",
       "      <td>5.0</td>\n",
       "      <td>10.0</td>\n",
       "      <td>30.0</td>\n",
       "      <td>7.0</td>\n",
       "      <td>1023.5</td>\n",
       "      <td>0.0</td>\n",
       "      <td>0.0</td>\n",
       "      <td>0.0</td>\n",
       "      <td>0.0</td>\n",
       "      <td>1</td>\n",
       "      <td>3</td>\n",
       "      <td>1</td>\n",
       "    </tr>\n",
       "    <tr>\n",
       "      <th>4</th>\n",
       "      <td>Bronx</td>\n",
       "      <td>120</td>\n",
       "      <td>3.0</td>\n",
       "      <td>10.0</td>\n",
       "      <td>30.0</td>\n",
       "      <td>6.0</td>\n",
       "      <td>1023.0</td>\n",
       "      <td>0.0</td>\n",
       "      <td>0.0</td>\n",
       "      <td>0.0</td>\n",
       "      <td>0.0</td>\n",
       "      <td>1</td>\n",
       "      <td>3</td>\n",
       "      <td>2</td>\n",
       "    </tr>\n",
       "    <tr>\n",
       "      <th>5</th>\n",
       "      <td>Brooklyn</td>\n",
       "      <td>1229</td>\n",
       "      <td>3.0</td>\n",
       "      <td>10.0</td>\n",
       "      <td>30.0</td>\n",
       "      <td>6.0</td>\n",
       "      <td>1023.0</td>\n",
       "      <td>0.0</td>\n",
       "      <td>0.0</td>\n",
       "      <td>0.0</td>\n",
       "      <td>0.0</td>\n",
       "      <td>1</td>\n",
       "      <td>3</td>\n",
       "      <td>2</td>\n",
       "    </tr>\n",
       "  </tbody>\n",
       "</table>\n",
       "</div>"
      ],
      "text/plain": [
       "     borough  pickups  spd   vsb  temp  dewp     slp  pcp01  pcp06  pcp24  \\\n",
       "0      Bronx      152  5.0  10.0  30.0   7.0  1023.5    0.0    0.0    0.0   \n",
       "1   Brooklyn     1519  5.0  10.0  30.0   7.0  1023.5    0.0    0.0    0.0   \n",
       "2  Manhattan     5258  5.0  10.0  30.0   7.0  1023.5    0.0    0.0    0.0   \n",
       "3     Queens      405  5.0  10.0  30.0   7.0  1023.5    0.0    0.0    0.0   \n",
       "4      Bronx      120  3.0  10.0  30.0   6.0  1023.0    0.0    0.0    0.0   \n",
       "5   Brooklyn     1229  3.0  10.0  30.0   6.0  1023.0    0.0    0.0    0.0   \n",
       "\n",
       "    sd  hday  DayOfWeek  Time  \n",
       "0  0.0     1          3     1  \n",
       "1  0.0     1          3     1  \n",
       "2  0.0     1          3     1  \n",
       "3  0.0     1          3     1  \n",
       "4  0.0     1          3     2  \n",
       "5  0.0     1          3     2  "
      ]
     },
     "execution_count": 10,
     "metadata": {},
     "output_type": "execute_result"
    }
   ],
   "source": [
    "nyc.head(6)"
   ]
  },
  {
   "cell_type": "code",
   "execution_count": 11,
   "metadata": {
    "execution": {
     "iopub.execute_input": "2024-05-07T14:57:41.998554Z",
     "iopub.status.busy": "2024-05-07T14:57:41.998011Z",
     "iopub.status.idle": "2024-05-07T14:57:42.009998Z",
     "shell.execute_reply": "2024-05-07T14:57:42.008291Z",
     "shell.execute_reply.started": "2024-05-07T14:57:41.998511Z"
    },
    "trusted": true
   },
   "outputs": [
    {
     "data": {
      "text/plain": [
       "array(['Bronx', 'Brooklyn', 'Manhattan', 'Queens'], dtype=object)"
      ]
     },
     "execution_count": 11,
     "metadata": {},
     "output_type": "execute_result"
    }
   ],
   "source": [
    "nyc['borough'].unique()"
   ]
  },
  {
   "cell_type": "markdown",
   "metadata": {},
   "source": [
    "## Exploratory Data Analysis (EDA) Step:"
   ]
  },
  {
   "cell_type": "code",
   "execution_count": 12,
   "metadata": {
    "execution": {
     "iopub.execute_input": "2024-05-07T14:57:44.490789Z",
     "iopub.status.busy": "2024-05-07T14:57:44.490163Z",
     "iopub.status.idle": "2024-05-07T14:57:45.746091Z",
     "shell.execute_reply": "2024-05-07T14:57:45.744685Z",
     "shell.execute_reply.started": "2024-05-07T14:57:44.490749Z"
    },
    "trusted": true
   },
   "outputs": [
    {
     "data": {
      "text/plain": [
       "Text(0.08, 0.5, 'Y-axis Label')"
      ]
     },
     "execution_count": 12,
     "metadata": {},
     "output_type": "execute_result"
    },
    {
     "data": {
      "image/png": "[encoded data removed]",
      "text/plain": [
       "<Figure size 1200x600 with 4 Axes>"
      ]
     },
     "metadata": {},
     "output_type": "display_data"
    }
   ],
   "source": [
    "data_queens = nyc[nyc['borough']=='Queens'].groupby('Time')['pickups'].mean().reset_index()\n",
    "data_bronx = nyc[nyc['borough']=='Bronx'].groupby('Time')['pickups'].mean().reset_index()\n",
    "data_brooklyn = nyc[nyc['borough']=='Brooklyn'].groupby('Time')['pickups'].mean().reset_index()\n",
    "data_manhattan = nyc[nyc['borough']=='Manhattan'].groupby('Time')['pickups'].mean().reset_index()\n",
    "\n",
    "\n",
    "fig, axs= plt.subplots(2, 2,figsize=(12, 6),sharex=True)\n",
    "\n",
    "axs[0,0].bar(data_queens['Time'],data_queens['pickups'])\n",
    "axs[0, 0].set_title('Queens')\n",
    "\n",
    "axs[0,1].bar(data_bronx['Time'],data_bronx['pickups'])\n",
    "axs[0, 1].set_title('Bronx')\n",
    "\n",
    "axs[1,0].bar(data_brooklyn['Time'],data_brooklyn['pickups'])\n",
    "axs[1, 0].set_title('Brooklyn')\n",
    "\n",
    "axs[1,1].bar(data_manhattan['Time'],data_manhattan['pickups'])\n",
    "axs[1, 1].set_title('Manhattan')\n",
    "\n",
    "\n",
    "fig.text(0.5, 0.04, 'Time', ha='center', va='center') \n",
    "fig.text(0.08, 0.5, 'Y-axis Label', ha='center', va='center', rotation='vertical') "
   ]
  },
  {
   "cell_type": "markdown",
   "metadata": {},
   "source": [
    "### Observation \n",
    "\n",
    "As expected, we have observed a pronounced effect of time on the number of pickups. Our findings clearly demonstrate a strong correlation between the time of day and the volume of pickups, highlighting the substantial influence that time exerts on this metric."
   ]
  },
  {
   "cell_type": "markdown",
   "metadata": {},
   "source": [
    "# Training Regression Models\n",
    "\n",
    "\n",
    "I will split the data into separate tables, each representing a specific borough. This approach allows us to train individual models tailored to the unique characteristics of each borough. By doing so, we can predict the number of pickups for each borough independently.\n",
    "\n",
    "\n",
    "Once the models are trained, we will utilize relevant variables to generate a comprehensive table that presents the predicted pickup numbers for each borough. This table will empower users to make informed decisions based on their specific needs and preferences. Ultimately, our goal is to provide a flexible solution that enables users to identify the borough that best aligns with their transportation or logistics requirements."
   ]
  },
  {
   "cell_type": "markdown",
   "metadata": {},
   "source": [
    "### Models testing"
   ]
  },
  {
   "cell_type": "code",
   "execution_count": 13,
   "metadata": {
    "execution": {
     "iopub.execute_input": "2024-05-07T14:57:49.104521Z",
     "iopub.status.busy": "2024-05-07T14:57:49.104084Z",
     "iopub.status.idle": "2024-05-07T14:57:49.849111Z",
     "shell.execute_reply": "2024-05-07T14:57:49.848054Z",
     "shell.execute_reply.started": "2024-05-07T14:57:49.104486Z"
    },
    "trusted": true
   },
   "outputs": [],
   "source": [
    "from sklearn.metrics import r2_score, mean_squared_error, mean_absolute_error, max_error\n",
    "from scipy.stats import norm\n",
    "\n",
    "def evaluate_regression_model(model, X_test, y_test):\n",
    "    \"\"\"\n",
    "    Evaluate a regression model using various performance metrics and return a table of results.\n",
    "    \n",
    "    Parameters:\n",
    "        model (object): The regression model to evaluate.\n",
    "        X_test (array-like): Test input data.\n",
    "        y_test (array-like): Test target data.\n",
    "    \n",
    "    Returns:\n",
    "        pandas.DataFrame: Table containing evaluation metrics.\n",
    "    \"\"\"\n",
    "\n",
    "    \n",
    "    # Make predictions on test data\n",
    "    y_pred = model.predict(X_test)\n",
    "    \n",
    "    # Calculate R² score\n",
    "    r2 = r2_score(y_test, y_pred)\n",
    "    \n",
    "    # Calculate RMSE (Root Mean Squared Error)\n",
    "    rmse = np.sqrt(mean_squared_error(y_test, y_pred))\n",
    "    \n",
    "    # Calculate maximum error\n",
    "    max_err = max_error(y_test, y_pred)\n",
    "    \n",
    "    # Calculate MSE (Mean Squared Error)\n",
    "    mse = mean_squared_error(y_test, y_pred)\n",
    "    \n",
    "    # Calculate MAPE (Mean Absolute Percentage Error)\n",
    "    mape = np.mean(np.abs((y_test - y_pred) / y_test)) * 100\n",
    "    \n",
    "\n",
    "    \n",
    "    # Create a DataFrame to store results\n",
    "    results = pd.DataFrame({\n",
    "        'Metric': ['R² (Coefficient of Determination)', 'RMSE (Root Mean Squared Error)',\n",
    "                   'Max Error', 'MSE (Mean Squared Error)', 'MAPE (Mean Absolute Percentage Error)'],\n",
    "        'Value': [r2, rmse, max_err, mse, mape]\n",
    "    })\n",
    "    \n",
    "    return results"
   ]
  },
  {
   "cell_type": "code",
   "execution_count": 14,
   "metadata": {
    "execution": {
     "iopub.execute_input": "2024-05-07T14:57:52.227735Z",
     "iopub.status.busy": "2024-05-07T14:57:52.227312Z",
     "iopub.status.idle": "2024-05-07T14:57:52.267276Z",
     "shell.execute_reply": "2024-05-07T14:57:52.265893Z",
     "shell.execute_reply.started": "2024-05-07T14:57:52.227697Z"
    },
    "trusted": true
   },
   "outputs": [],
   "source": [
    "from sklearn.model_selection import train_test_split\n",
    "\n",
    "#A thorough analysis revealed that the variables 'spd' and 'vsb' have a negligible impact on predicting pickup numbers.\n",
    "X= nyc[nyc['borough']=='Manhattan'].drop(columns=['pickups','borough','spd', 'vsb'])\n",
    "\n",
    "y = nyc[nyc['borough']=='Manhattan']['pickups']\n",
    "\n",
    "X_train, X_test, y_train, y_test = train_test_split(X, y, test_size=0.2, random_state=42)\n",
    "\n"
   ]
  },
  {
   "cell_type": "code",
   "execution_count": 15,
   "metadata": {
    "execution": {
     "iopub.execute_input": "2024-05-07T14:57:53.851860Z",
     "iopub.status.busy": "2024-05-07T14:57:53.851466Z",
     "iopub.status.idle": "2024-05-07T14:57:55.712012Z",
     "shell.execute_reply": "2024-05-07T14:57:55.710832Z",
     "shell.execute_reply.started": "2024-05-07T14:57:53.851829Z"
    },
    "trusted": true
   },
   "outputs": [
    {
     "data": {
      "text/html": [
       "<div>\n",
       "<style scoped>\n",
       "    .dataframe tbody tr th:only-of-type {\n",
       "        vertical-align: middle;\n",
       "    }\n",
       "\n",
       "    .dataframe tbody tr th {\n",
       "        vertical-align: top;\n",
       "    }\n",
       "\n",
       "    .dataframe thead th {\n",
       "        text-align: right;\n",
       "    }\n",
       "</style>\n",
       "<table border=\"1\" class=\"dataframe\">\n",
       "  <thead>\n",
       "    <tr style=\"text-align: right;\">\n",
       "      <th></th>\n",
       "      <th>Metric</th>\n",
       "      <th>Value</th>\n",
       "    </tr>\n",
       "  </thead>\n",
       "  <tbody>\n",
       "    <tr>\n",
       "      <th>0</th>\n",
       "      <td>R² (Coefficient of Determination)</td>\n",
       "      <td>9.101489e-01</td>\n",
       "    </tr>\n",
       "    <tr>\n",
       "      <th>1</th>\n",
       "      <td>RMSE (Root Mean Squared Error)</td>\n",
       "      <td>4.312703e+02</td>\n",
       "    </tr>\n",
       "    <tr>\n",
       "      <th>2</th>\n",
       "      <td>Max Error</td>\n",
       "      <td>2.713840e+03</td>\n",
       "    </tr>\n",
       "    <tr>\n",
       "      <th>3</th>\n",
       "      <td>MSE (Mean Squared Error)</td>\n",
       "      <td>1.859940e+05</td>\n",
       "    </tr>\n",
       "    <tr>\n",
       "      <th>4</th>\n",
       "      <td>MAPE (Mean Absolute Percentage Error)</td>\n",
       "      <td>inf</td>\n",
       "    </tr>\n",
       "  </tbody>\n",
       "</table>\n",
       "</div>"
      ],
      "text/plain": [
       "                                  Metric         Value\n",
       "0      R² (Coefficient of Determination)  9.101489e-01\n",
       "1         RMSE (Root Mean Squared Error)  4.312703e+02\n",
       "2                              Max Error  2.713840e+03\n",
       "3               MSE (Mean Squared Error)  1.859940e+05\n",
       "4  MAPE (Mean Absolute Percentage Error)           inf"
      ]
     },
     "execution_count": 15,
     "metadata": {},
     "output_type": "execute_result"
    }
   ],
   "source": [
    "from sklearn.ensemble import RandomForestRegressor\n",
    "\n",
    "rfr = RandomForestRegressor(random_state=42)\n",
    "\n",
    "rfr.fit(X_train, y_train)\n",
    "\n",
    "evaluate_regression_model(rfr, X_test, y_test)"
   ]
  },
  {
   "cell_type": "code",
   "execution_count": 16,
   "metadata": {
    "execution": {
     "iopub.execute_input": "2024-05-07T14:57:57.508095Z",
     "iopub.status.busy": "2024-05-07T14:57:57.507603Z",
     "iopub.status.idle": "2024-05-07T14:57:57.568907Z",
     "shell.execute_reply": "2024-05-07T14:57:57.566790Z",
     "shell.execute_reply.started": "2024-05-07T14:57:57.508057Z"
    },
    "trusted": true
   },
   "outputs": [
    {
     "data": {
      "text/html": [
       "<div>\n",
       "<style scoped>\n",
       "    .dataframe tbody tr th:only-of-type {\n",
       "        vertical-align: middle;\n",
       "    }\n",
       "\n",
       "    .dataframe tbody tr th {\n",
       "        vertical-align: top;\n",
       "    }\n",
       "\n",
       "    .dataframe thead th {\n",
       "        text-align: right;\n",
       "    }\n",
       "</style>\n",
       "<table border=\"1\" class=\"dataframe\">\n",
       "  <thead>\n",
       "    <tr style=\"text-align: right;\">\n",
       "      <th></th>\n",
       "      <th>Metric</th>\n",
       "      <th>Value</th>\n",
       "    </tr>\n",
       "  </thead>\n",
       "  <tbody>\n",
       "    <tr>\n",
       "      <th>0</th>\n",
       "      <td>R² (Coefficient of Determination)</td>\n",
       "      <td>4.110340e-01</td>\n",
       "    </tr>\n",
       "    <tr>\n",
       "      <th>1</th>\n",
       "      <td>RMSE (Root Mean Squared Error)</td>\n",
       "      <td>1.104162e+03</td>\n",
       "    </tr>\n",
       "    <tr>\n",
       "      <th>2</th>\n",
       "      <td>Max Error</td>\n",
       "      <td>4.549995e+03</td>\n",
       "    </tr>\n",
       "    <tr>\n",
       "      <th>3</th>\n",
       "      <td>MSE (Mean Squared Error)</td>\n",
       "      <td>1.219175e+06</td>\n",
       "    </tr>\n",
       "    <tr>\n",
       "      <th>4</th>\n",
       "      <td>MAPE (Mean Absolute Percentage Error)</td>\n",
       "      <td>inf</td>\n",
       "    </tr>\n",
       "  </tbody>\n",
       "</table>\n",
       "</div>"
      ],
      "text/plain": [
       "                                  Metric         Value\n",
       "0      R² (Coefficient of Determination)  4.110340e-01\n",
       "1         RMSE (Root Mean Squared Error)  1.104162e+03\n",
       "2                              Max Error  4.549995e+03\n",
       "3               MSE (Mean Squared Error)  1.219175e+06\n",
       "4  MAPE (Mean Absolute Percentage Error)           inf"
      ]
     },
     "execution_count": 16,
     "metadata": {},
     "output_type": "execute_result"
    }
   ],
   "source": [
    "from sklearn.linear_model import LinearRegression\n",
    "\n",
    "lin_reg = LinearRegression().fit(X_train, y_train)\n",
    "\n",
    "evaluate_regression_model(lin_reg, X_test, y_test)"
   ]
  },
  {
   "cell_type": "code",
   "execution_count": 17,
   "metadata": {
    "execution": {
     "iopub.execute_input": "2024-05-07T14:57:59.439093Z",
     "iopub.status.busy": "2024-05-07T14:57:59.438577Z",
     "iopub.status.idle": "2024-05-07T14:57:59.482700Z",
     "shell.execute_reply": "2024-05-07T14:57:59.481209Z",
     "shell.execute_reply.started": "2024-05-07T14:57:59.439050Z"
    },
    "trusted": true
   },
   "outputs": [
    {
     "data": {
      "text/html": [
       "<div>\n",
       "<style scoped>\n",
       "    .dataframe tbody tr th:only-of-type {\n",
       "        vertical-align: middle;\n",
       "    }\n",
       "\n",
       "    .dataframe tbody tr th {\n",
       "        vertical-align: top;\n",
       "    }\n",
       "\n",
       "    .dataframe thead th {\n",
       "        text-align: right;\n",
       "    }\n",
       "</style>\n",
       "<table border=\"1\" class=\"dataframe\">\n",
       "  <thead>\n",
       "    <tr style=\"text-align: right;\">\n",
       "      <th></th>\n",
       "      <th>Metric</th>\n",
       "      <th>Value</th>\n",
       "    </tr>\n",
       "  </thead>\n",
       "  <tbody>\n",
       "    <tr>\n",
       "      <th>0</th>\n",
       "      <td>R² (Coefficient of Determination)</td>\n",
       "      <td>8.050951e-01</td>\n",
       "    </tr>\n",
       "    <tr>\n",
       "      <th>1</th>\n",
       "      <td>RMSE (Root Mean Squared Error)</td>\n",
       "      <td>6.351836e+02</td>\n",
       "    </tr>\n",
       "    <tr>\n",
       "      <th>2</th>\n",
       "      <td>Max Error</td>\n",
       "      <td>5.063000e+03</td>\n",
       "    </tr>\n",
       "    <tr>\n",
       "      <th>3</th>\n",
       "      <td>MSE (Mean Squared Error)</td>\n",
       "      <td>4.034582e+05</td>\n",
       "    </tr>\n",
       "    <tr>\n",
       "      <th>4</th>\n",
       "      <td>MAPE (Mean Absolute Percentage Error)</td>\n",
       "      <td>inf</td>\n",
       "    </tr>\n",
       "  </tbody>\n",
       "</table>\n",
       "</div>"
      ],
      "text/plain": [
       "                                  Metric         Value\n",
       "0      R² (Coefficient of Determination)  8.050951e-01\n",
       "1         RMSE (Root Mean Squared Error)  6.351836e+02\n",
       "2                              Max Error  5.063000e+03\n",
       "3               MSE (Mean Squared Error)  4.034582e+05\n",
       "4  MAPE (Mean Absolute Percentage Error)           inf"
      ]
     },
     "execution_count": 17,
     "metadata": {},
     "output_type": "execute_result"
    }
   ],
   "source": [
    "from sklearn.tree import DecisionTreeRegressor\n",
    "\n",
    "dstree = DecisionTreeRegressor().fit(X_train, y_train)\n",
    "\n",
    "evaluate_regression_model(dstree, X_test, y_test)\n"
   ]
  },
  {
   "cell_type": "code",
   "execution_count": 18,
   "metadata": {
    "execution": {
     "iopub.execute_input": "2024-05-07T14:58:01.198923Z",
     "iopub.status.busy": "2024-05-07T14:58:01.197958Z",
     "iopub.status.idle": "2024-05-07T14:58:01.742383Z",
     "shell.execute_reply": "2024-05-07T14:58:01.740797Z",
     "shell.execute_reply.started": "2024-05-07T14:58:01.198870Z"
    },
    "trusted": true
   },
   "outputs": [
    {
     "data": {
      "text/html": [
       "<div>\n",
       "<style scoped>\n",
       "    .dataframe tbody tr th:only-of-type {\n",
       "        vertical-align: middle;\n",
       "    }\n",
       "\n",
       "    .dataframe tbody tr th {\n",
       "        vertical-align: top;\n",
       "    }\n",
       "\n",
       "    .dataframe thead th {\n",
       "        text-align: right;\n",
       "    }\n",
       "</style>\n",
       "<table border=\"1\" class=\"dataframe\">\n",
       "  <thead>\n",
       "    <tr style=\"text-align: right;\">\n",
       "      <th></th>\n",
       "      <th>Metric</th>\n",
       "      <th>Value</th>\n",
       "    </tr>\n",
       "  </thead>\n",
       "  <tbody>\n",
       "    <tr>\n",
       "      <th>0</th>\n",
       "      <td>R² (Coefficient of Determination)</td>\n",
       "      <td>8.434292e-01</td>\n",
       "    </tr>\n",
       "    <tr>\n",
       "      <th>1</th>\n",
       "      <td>RMSE (Root Mean Squared Error)</td>\n",
       "      <td>5.693028e+02</td>\n",
       "    </tr>\n",
       "    <tr>\n",
       "      <th>2</th>\n",
       "      <td>Max Error</td>\n",
       "      <td>2.979250e+03</td>\n",
       "    </tr>\n",
       "    <tr>\n",
       "      <th>3</th>\n",
       "      <td>MSE (Mean Squared Error)</td>\n",
       "      <td>3.241056e+05</td>\n",
       "    </tr>\n",
       "    <tr>\n",
       "      <th>4</th>\n",
       "      <td>MAPE (Mean Absolute Percentage Error)</td>\n",
       "      <td>inf</td>\n",
       "    </tr>\n",
       "  </tbody>\n",
       "</table>\n",
       "</div>"
      ],
      "text/plain": [
       "                                  Metric         Value\n",
       "0      R² (Coefficient of Determination)  8.434292e-01\n",
       "1         RMSE (Root Mean Squared Error)  5.693028e+02\n",
       "2                              Max Error  2.979250e+03\n",
       "3               MSE (Mean Squared Error)  3.241056e+05\n",
       "4  MAPE (Mean Absolute Percentage Error)           inf"
      ]
     },
     "execution_count": 18,
     "metadata": {},
     "output_type": "execute_result"
    }
   ],
   "source": [
    "from sklearn.ensemble import GradientBoostingRegressor\n",
    "\n",
    "gbr = GradientBoostingRegressor().fit(X_train, y_train)\n",
    "\n",
    "evaluate_regression_model(gbr, X_test, y_test)\n"
   ]
  },
  {
   "cell_type": "markdown",
   "metadata": {},
   "source": [
    "## Conclusion\n",
    "\n",
    "Upon evaluating various regression models, it is evident that the Random Forest Regressor stands out with the best performance. As a result, we have decided to utilize this model consistently across all the remaining datasets. By employing the Random Forest Regressor, we can leverage its ability to capture complex relationships and make accurate predictions for each borough's pickup patterns."
   ]
  },
  {
   "cell_type": "markdown",
   "metadata": {},
   "source": [
    "#### Training an Random Foresst Regressor with Bronx data"
   ]
  },
  {
   "cell_type": "code",
   "execution_count": 19,
   "metadata": {
    "execution": {
     "iopub.execute_input": "2024-05-07T14:58:04.579928Z",
     "iopub.status.busy": "2024-05-07T14:58:04.579471Z",
     "iopub.status.idle": "2024-05-07T14:58:04.602079Z",
     "shell.execute_reply": "2024-05-07T14:58:04.600999Z",
     "shell.execute_reply.started": "2024-05-07T14:58:04.579895Z"
    },
    "trusted": true
   },
   "outputs": [],
   "source": [
    "from sklearn.model_selection import train_test_split\n",
    "\n",
    "X= nyc[nyc['borough']=='Bronx'].drop(columns=['pickups','borough','spd', 'vsb'])\n",
    "\n",
    "y = nyc[nyc['borough']=='Bronx']['pickups']\n",
    "\n",
    "X_train, X_test, y_train, y_test = train_test_split(X, y, test_size=0.2, random_state=42)\n"
   ]
  },
  {
   "cell_type": "code",
   "execution_count": 20,
   "metadata": {
    "execution": {
     "iopub.execute_input": "2024-05-07T14:58:07.376041Z",
     "iopub.status.busy": "2024-05-07T14:58:07.375640Z",
     "iopub.status.idle": "2024-05-07T14:58:08.906686Z",
     "shell.execute_reply": "2024-05-07T14:58:08.904959Z",
     "shell.execute_reply.started": "2024-05-07T14:58:07.376008Z"
    },
    "trusted": true
   },
   "outputs": [
    {
     "data": {
      "text/plain": [
       "0.8412973751354831"
      ]
     },
     "execution_count": 20,
     "metadata": {},
     "output_type": "execute_result"
    }
   ],
   "source": [
    "from sklearn.ensemble import RandomForestRegressor\n",
    "\n",
    "RFR_Bronx = RandomForestRegressor(random_state=42)\n",
    "\n",
    "RFR_Bronx.fit(X_train, y_train)\n",
    "\n",
    "\n",
    "RFR_Bronx.score(X_test, y_test)"
   ]
  },
  {
   "cell_type": "markdown",
   "metadata": {},
   "source": [
    "### Training with Brooklyn data"
   ]
  },
  {
   "cell_type": "code",
   "execution_count": 21,
   "metadata": {
    "execution": {
     "iopub.execute_input": "2024-05-07T14:58:10.014421Z",
     "iopub.status.busy": "2024-05-07T14:58:10.013848Z",
     "iopub.status.idle": "2024-05-07T14:58:10.037770Z",
     "shell.execute_reply": "2024-05-07T14:58:10.036406Z",
     "shell.execute_reply.started": "2024-05-07T14:58:10.014376Z"
    },
    "trusted": true
   },
   "outputs": [],
   "source": [
    "from sklearn.model_selection import train_test_split\n",
    "\n",
    "X= nyc[nyc['borough']=='Brooklyn'].drop(columns=['pickups','borough','spd', 'vsb'])\n",
    "\n",
    "y = nyc[nyc['borough']=='Brooklyn']['pickups']\n",
    "\n",
    "X_train, X_test, y_train, y_test = train_test_split(X, y, test_size=0.2, random_state=42)\n",
    "\n"
   ]
  },
  {
   "cell_type": "code",
   "execution_count": 22,
   "metadata": {
    "execution": {
     "iopub.execute_input": "2024-05-07T14:58:13.015801Z",
     "iopub.status.busy": "2024-05-07T14:58:13.015189Z",
     "iopub.status.idle": "2024-05-07T14:58:14.587727Z",
     "shell.execute_reply": "2024-05-07T14:58:14.585465Z",
     "shell.execute_reply.started": "2024-05-07T14:58:13.015752Z"
    },
    "trusted": true
   },
   "outputs": [
    {
     "data": {
      "text/plain": [
       "0.9403000671821027"
      ]
     },
     "execution_count": 22,
     "metadata": {},
     "output_type": "execute_result"
    }
   ],
   "source": [
    "from sklearn.ensemble import RandomForestRegressor\n",
    "\n",
    "RFR_Brooklyn = RandomForestRegressor(random_state=42)\n",
    "\n",
    "RFR_Brooklyn.fit(X_train, y_train)\n",
    "\n",
    "RFR_Brooklyn.score(X_test, y_test)"
   ]
  },
  {
   "cell_type": "markdown",
   "metadata": {},
   "source": [
    "### Training with Staten Island data"
   ]
  },
  {
   "cell_type": "code",
   "execution_count": 23,
   "metadata": {
    "execution": {
     "iopub.execute_input": "2024-05-07T14:58:16.058703Z",
     "iopub.status.busy": "2024-05-07T14:58:16.058153Z",
     "iopub.status.idle": "2024-05-07T14:58:16.080125Z",
     "shell.execute_reply": "2024-05-07T14:58:16.078774Z",
     "shell.execute_reply.started": "2024-05-07T14:58:16.058666Z"
    },
    "trusted": true
   },
   "outputs": [],
   "source": [
    "from sklearn.model_selection import train_test_split\n",
    "\n",
    "X= nyc[nyc['borough']=='Manhattan'].drop(columns=['pickups','borough','spd', 'vsb'])\n",
    "\n",
    "y = nyc[nyc['borough']=='Manhattan']['pickups']\n",
    "\n",
    "X_train, X_test, y_train, y_test = train_test_split(X, y, test_size=0.2, random_state=42)\n",
    "\n"
   ]
  },
  {
   "cell_type": "code",
   "execution_count": 24,
   "metadata": {
    "execution": {
     "iopub.execute_input": "2024-05-07T14:58:18.340262Z",
     "iopub.status.busy": "2024-05-07T14:58:18.339140Z",
     "iopub.status.idle": "2024-05-07T14:58:19.942611Z",
     "shell.execute_reply": "2024-05-07T14:58:19.941301Z",
     "shell.execute_reply.started": "2024-05-07T14:58:18.340209Z"
    },
    "trusted": true
   },
   "outputs": [
    {
     "data": {
      "text/plain": [
       "0.9101489082711629"
      ]
     },
     "execution_count": 24,
     "metadata": {},
     "output_type": "execute_result"
    }
   ],
   "source": [
    "from sklearn.ensemble import RandomForestRegressor\n",
    "\n",
    "RFR_Manhattan = RandomForestRegressor(random_state=42)\n",
    "\n",
    "RFR_Manhattan.fit(X_train, y_train)\n",
    "\n",
    "RFR_Manhattan.score(X_test, y_test)"
   ]
  },
  {
   "cell_type": "markdown",
   "metadata": {},
   "source": [
    "### Training with Queens data"
   ]
  },
  {
   "cell_type": "code",
   "execution_count": 25,
   "metadata": {},
   "outputs": [],
   "source": [
    "from sklearn.model_selection import train_test_split\n",
    "\n",
    "X= nyc[nyc['borough']=='Queens'].drop(columns=['pickups','borough','spd', 'vsb'])\n",
    "\n",
    "y = nyc[nyc['borough']=='Queens']['pickups']\n",
    "\n",
    "X_train, X_test, y_train, y_test = train_test_split(X, y, test_size=0.2, random_state=42)\n",
    "\n"
   ]
  },
  {
   "cell_type": "code",
   "execution_count": 26,
   "metadata": {
    "execution": {
     "iopub.execute_input": "2024-05-07T14:58:22.766213Z",
     "iopub.status.busy": "2024-05-07T14:58:22.765768Z",
     "iopub.status.idle": "2024-05-07T14:58:24.317619Z",
     "shell.execute_reply": "2024-05-07T14:58:24.316290Z",
     "shell.execute_reply.started": "2024-05-07T14:58:22.766160Z"
    },
    "trusted": true
   },
   "outputs": [
    {
     "data": {
      "text/plain": [
       "0.9022573549042608"
      ]
     },
     "execution_count": 26,
     "metadata": {},
     "output_type": "execute_result"
    }
   ],
   "source": [
    "from sklearn.ensemble import RandomForestRegressor\n",
    "\n",
    "RFR_Queens = RandomForestRegressor(random_state=42)\n",
    "\n",
    "RFR_Queens.fit(X_train, y_train)\n",
    "\n",
    "RFR_Queens.score(X_test, y_test)"
   ]
  },
  {
   "cell_type": "markdown",
   "metadata": {},
   "source": [
    "### Prediction"
   ]
  },
  {
   "cell_type": "code",
   "execution_count": 27,
   "metadata": {
    "execution": {
     "iopub.execute_input": "2024-05-07T14:58:25.514865Z",
     "iopub.status.busy": "2024-05-07T14:58:25.513863Z",
     "iopub.status.idle": "2024-05-07T14:58:25.542451Z",
     "shell.execute_reply": "2024-05-07T14:58:25.540294Z",
     "shell.execute_reply.started": "2024-05-07T14:58:25.514809Z"
    },
    "trusted": true
   },
   "outputs": [
    {
     "data": {
      "text/html": [
       "<div>\n",
       "<style scoped>\n",
       "    .dataframe tbody tr th:only-of-type {\n",
       "        vertical-align: middle;\n",
       "    }\n",
       "\n",
       "    .dataframe tbody tr th {\n",
       "        vertical-align: top;\n",
       "    }\n",
       "\n",
       "    .dataframe thead th {\n",
       "        text-align: right;\n",
       "    }\n",
       "</style>\n",
       "<table border=\"1\" class=\"dataframe\">\n",
       "  <thead>\n",
       "    <tr style=\"text-align: right;\">\n",
       "      <th></th>\n",
       "      <th>borough</th>\n",
       "      <th>pickups</th>\n",
       "      <th>spd</th>\n",
       "      <th>vsb</th>\n",
       "      <th>temp</th>\n",
       "      <th>dewp</th>\n",
       "      <th>slp</th>\n",
       "      <th>pcp01</th>\n",
       "      <th>pcp06</th>\n",
       "      <th>pcp24</th>\n",
       "      <th>sd</th>\n",
       "      <th>hday</th>\n",
       "      <th>DayOfWeek</th>\n",
       "      <th>Time</th>\n",
       "    </tr>\n",
       "  </thead>\n",
       "  <tbody>\n",
       "    <tr>\n",
       "      <th>0</th>\n",
       "      <td>Bronx</td>\n",
       "      <td>152</td>\n",
       "      <td>5.0</td>\n",
       "      <td>10.0</td>\n",
       "      <td>30.0</td>\n",
       "      <td>7.0</td>\n",
       "      <td>1023.5</td>\n",
       "      <td>0.0</td>\n",
       "      <td>0.0</td>\n",
       "      <td>0.0</td>\n",
       "      <td>0.0</td>\n",
       "      <td>1</td>\n",
       "      <td>3</td>\n",
       "      <td>1</td>\n",
       "    </tr>\n",
       "    <tr>\n",
       "      <th>1</th>\n",
       "      <td>Brooklyn</td>\n",
       "      <td>1519</td>\n",
       "      <td>5.0</td>\n",
       "      <td>10.0</td>\n",
       "      <td>30.0</td>\n",
       "      <td>7.0</td>\n",
       "      <td>1023.5</td>\n",
       "      <td>0.0</td>\n",
       "      <td>0.0</td>\n",
       "      <td>0.0</td>\n",
       "      <td>0.0</td>\n",
       "      <td>1</td>\n",
       "      <td>3</td>\n",
       "      <td>1</td>\n",
       "    </tr>\n",
       "    <tr>\n",
       "      <th>2</th>\n",
       "      <td>Manhattan</td>\n",
       "      <td>5258</td>\n",
       "      <td>5.0</td>\n",
       "      <td>10.0</td>\n",
       "      <td>30.0</td>\n",
       "      <td>7.0</td>\n",
       "      <td>1023.5</td>\n",
       "      <td>0.0</td>\n",
       "      <td>0.0</td>\n",
       "      <td>0.0</td>\n",
       "      <td>0.0</td>\n",
       "      <td>1</td>\n",
       "      <td>3</td>\n",
       "      <td>1</td>\n",
       "    </tr>\n",
       "    <tr>\n",
       "      <th>3</th>\n",
       "      <td>Queens</td>\n",
       "      <td>405</td>\n",
       "      <td>5.0</td>\n",
       "      <td>10.0</td>\n",
       "      <td>30.0</td>\n",
       "      <td>7.0</td>\n",
       "      <td>1023.5</td>\n",
       "      <td>0.0</td>\n",
       "      <td>0.0</td>\n",
       "      <td>0.0</td>\n",
       "      <td>0.0</td>\n",
       "      <td>1</td>\n",
       "      <td>3</td>\n",
       "      <td>1</td>\n",
       "    </tr>\n",
       "    <tr>\n",
       "      <th>4</th>\n",
       "      <td>Bronx</td>\n",
       "      <td>120</td>\n",
       "      <td>3.0</td>\n",
       "      <td>10.0</td>\n",
       "      <td>30.0</td>\n",
       "      <td>6.0</td>\n",
       "      <td>1023.0</td>\n",
       "      <td>0.0</td>\n",
       "      <td>0.0</td>\n",
       "      <td>0.0</td>\n",
       "      <td>0.0</td>\n",
       "      <td>1</td>\n",
       "      <td>3</td>\n",
       "      <td>2</td>\n",
       "    </tr>\n",
       "  </tbody>\n",
       "</table>\n",
       "</div>"
      ],
      "text/plain": [
       "     borough  pickups  spd   vsb  temp  dewp     slp  pcp01  pcp06  pcp24  \\\n",
       "0      Bronx      152  5.0  10.0  30.0   7.0  1023.5    0.0    0.0    0.0   \n",
       "1   Brooklyn     1519  5.0  10.0  30.0   7.0  1023.5    0.0    0.0    0.0   \n",
       "2  Manhattan     5258  5.0  10.0  30.0   7.0  1023.5    0.0    0.0    0.0   \n",
       "3     Queens      405  5.0  10.0  30.0   7.0  1023.5    0.0    0.0    0.0   \n",
       "4      Bronx      120  3.0  10.0  30.0   6.0  1023.0    0.0    0.0    0.0   \n",
       "\n",
       "    sd  hday  DayOfWeek  Time  \n",
       "0  0.0     1          3     1  \n",
       "1  0.0     1          3     1  \n",
       "2  0.0     1          3     1  \n",
       "3  0.0     1          3     1  \n",
       "4  0.0     1          3     2  "
      ]
     },
     "execution_count": 27,
     "metadata": {},
     "output_type": "execute_result"
    }
   ],
   "source": [
    "nyc.head()"
   ]
  },
  {
   "cell_type": "code",
   "execution_count": 28,
   "metadata": {
    "execution": {
     "iopub.execute_input": "2024-05-07T14:58:27.419906Z",
     "iopub.status.busy": "2024-05-07T14:58:27.419385Z",
     "iopub.status.idle": "2024-05-07T14:58:27.431415Z",
     "shell.execute_reply": "2024-05-07T14:58:27.430130Z",
     "shell.execute_reply.started": "2024-05-07T14:58:27.419864Z"
    },
    "trusted": true
   },
   "outputs": [],
   "source": [
    "def Predict_pickups(temp, dewp, slp, pcp01, pcp06, pcp24, sd, isholiday, Day, time):\n",
    "    week={'Monday':0, 'Tuesday':1,'Wednesday':2, 'Thursday':3, 'Friday':4, 'Saturday':5, 'Sunday':6}\n",
    "    holiday={'Yes':1, 'No':0}\n",
    "    hday=holiday[isholiday]\n",
    "    DayOfWeek=week[Day]\n",
    "    data_dict = {\n",
    "        'temp': [temp],\n",
    "        'dewp': [dewp],\n",
    "        'slp': [slp],\n",
    "        'pcp01': [pcp01],\n",
    "        'pcp06': [pcp06],\n",
    "        'pcp24': [pcp24],\n",
    "        'sd': [sd],\n",
    "        'hday': [hday],\n",
    "        'DayOfWeek': [DayOfWeek],\n",
    "        'Time': [time]\n",
    "    }\n",
    "\n",
    "    # Create a DataFrame from the dictionary\n",
    "    data_df = pd.DataFrame(data_dict)\n",
    "\n",
    "    # Make predictions for all boroughs using the DataFrame\n",
    "    predictions = {\n",
    "        'Manhattan': RFR_Manhattan.predict(data_df),\n",
    "        'Bronx': RFR_Bronx.predict(data_df),\n",
    "        'Brooklyn': RFR_Brooklyn.predict(data_df),\n",
    "        'Queens': RFR_Queens.predict(data_df)\n",
    "    }\n",
    "\n",
    "    # Print the predicted pickups for each borough\n",
    "    for borough, predicted_pickups in predictions.items():\n",
    "        print(f\"Predicted pickups in {borough}: {predicted_pickups[0]}\")"
   ]
  },
  {
   "cell_type": "code",
   "execution_count": 29,
   "metadata": {
    "execution": {
     "iopub.execute_input": "2024-05-07T15:01:09.491317Z",
     "iopub.status.busy": "2024-05-07T15:01:09.490223Z",
     "iopub.status.idle": "2024-05-07T15:01:09.531835Z",
     "shell.execute_reply": "2024-05-07T15:01:09.530494Z",
     "shell.execute_reply.started": "2024-05-07T15:01:09.491271Z"
    },
    "trusted": true
   },
   "outputs": [
    {
     "name": "stdout",
     "output_type": "stream",
     "text": [
      "Predicted pickups in Manhattan: 1041.55\n",
      "Predicted pickups in Bronx: 42.77\n",
      "Predicted pickups in Brooklyn: 352.88\n",
      "Predicted pickups in Queens: 319.45\n"
     ]
    }
   ],
   "source": [
    "Predict_pickups(60, 6, 1024, 0, 0.1, .21, 0, 'Yes', 'Tuesday', '8')"
   ]
  },
  {
   "cell_type": "markdown",
   "metadata": {},
   "source": [
    "### we can make it interactive"
   ]
  },
  {
   "cell_type": "code",
   "execution_count": 32,
   "metadata": {
    "execution": {
     "iopub.execute_input": "2024-05-07T14:58:32.037226Z",
     "iopub.status.busy": "2024-05-07T14:58:32.036746Z",
     "iopub.status.idle": "2024-05-07T14:58:32.215566Z",
     "shell.execute_reply": "2024-05-07T14:58:32.214231Z",
     "shell.execute_reply.started": "2024-05-07T14:58:32.037176Z"
    },
    "trusted": true
   },
   "outputs": [
    {
     "data": {
      "application/vnd.jupyter.widget-view+json": {
       "model_id": "b4648bec196c461493ffe7f07fe5966c",
       "version_major": 2,
       "version_minor": 0
      },
      "text/plain": [
       "interactive(children=(FloatSlider(value=55.0, description='temp', max=110.0), FloatSlider(value=42.0, descript…"
      ]
     },
     "metadata": {},
     "output_type": "display_data"
    },
    {
     "data": {
      "text/plain": [
       "<function __main__.Predict_pickups(temp, dewp, slp, pcp01, pcp06, pcp24, sd, isholiday, Day, time)>"
      ]
     },
     "execution_count": 32,
     "metadata": {},
     "output_type": "execute_result"
    }
   ],
   "source": [
    "from ipywidgets import interact_manual\n",
    "\n",
    "\n",
    "interact_manual(Predict_pickups,\n",
    "                temp=(0,110,.1),\n",
    "                dewp=(15,70,.1),\n",
    "                slp=(29,31,0.01),\n",
    "                pcp01=(0,2.5,.002),\n",
    "                pcp06=(0,2.5,0.002),\n",
    "                pcp24=(0,2.5,0.002),\n",
    "                sd=(0,200,1),\n",
    "                isholiday=['Yes','No'],\n",
    "                Day= ['Monday', 'Tuesday','Wednesday', 'Thursday', 'Friday', 'Saturday', 'Sunday'],\n",
    "                time= (0,23,1))\n"
   ]
  },
  {
   "cell_type": "code",
   "execution_count": null,
   "metadata": {},
   "outputs": [],
   "source": []
  }
 ],
 "metadata": {
  "kernelspec": {
   "display_name": "base",
   "language": "python",
   "name": "python3"
  },
  "language_info": {
   "codemirror_mode": {
    "name": "ipython",
    "version": 3
   },
   "file_extension": ".py",
   "mimetype": "text/x-python",
   "name": "python",
   "nbconvert_exporter": "python",
   "pygments_lexer": "ipython3",
   "version": "3.11.5"
  }
 },
 "nbformat": 4,
 "nbformat_minor": 4
}
